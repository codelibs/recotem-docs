{
 "cells": [
  {
   "cell_type": "code",
   "execution_count": 1,
   "metadata": {},
   "outputs": [],
   "source": [
    "from PIL import Image, ImageDraw\n",
    "from matplotlib import pyplot as plt\n",
    "from matplotlib.patches import Rectangle\n",
    "\n",
    "from pathlib import Path\n",
    "from zipfile import ZipFile\n",
    "import re"
   ]
  },
  {
   "cell_type": "code",
   "execution_count": 2,
   "metadata": {},
   "outputs": [],
   "source": [
    "INPUT_ZIP_PATH = Path('/home/tomoki/imgs.zip')\n",
    "OUTPUT_PATH = Path('/home/tomoki/recotem-docs/src/guide/tutorial')"
   ]
  },
  {
   "cell_type": "code",
   "execution_count": 48,
   "metadata": {},
   "outputs": [],
   "source": [
    "WIDTH_DEFAULT, HEIGHT_DEFAULT = (1280, 720)\n",
    "def crop_relative(img: Image.Image, left: float, upper: float, right: float, lower:float):\n",
    "    return img.crop(\n",
    "        (\n",
    "            int(left * WIDTH_DEFAULT), int(upper * HEIGHT_DEFAULT),\n",
    "            int(right * WIDTH_DEFAULT), int(lower * HEIGHT_DEFAULT)\n",
    "        )\n",
    "    )\n",
    "\n",
    "def add_box(img, left: float, upper:float, right: float, lower: float, color='red', linewidth=1):\n",
    "    img = img.copy()\n",
    "    xy1 = (int(left * WIDTH_DEFAULT), int(upper * HEIGHT_DEFAULT))\n",
    "    xy2 = (int(right * WIDTH_DEFAULT), int(lower * HEIGHT_DEFAULT))\n",
    "    draw = ImageDraw.Draw(img)\n",
    "    draw.rectangle((xy1, xy2), fill=None, outline=color, width=linewidth)\n",
    "    return img"
   ]
  },
  {
   "cell_type": "code",
   "execution_count": 4,
   "metadata": {},
   "outputs": [],
   "source": [
    "zf = ZipFile(INPUT_ZIP_PATH)\n",
    "pngs = {\n",
    "    x.filename: Image.open(zf.open(x)) for x in zf.filelist if x.filename.endswith('png')\n",
    "}\n",
    "img_names_aligned = sorted(\n",
    "    pngs.keys(), key=lambda x: int(re.search(r'tutorial/(\\d+)\\.', x).groups()[0])\n",
    ")"
   ]
  },
  {
   "cell_type": "code",
   "execution_count": 5,
   "metadata": {},
   "outputs": [],
   "source": [
    "def save_img_using_original_keyname(img: Image.Image, keyname: str):\n",
    "    img.save((OUTPUT_PATH / keyname.strip(\"tutorial/\")).open('wb'))    "
   ]
  },
  {
   "cell_type": "code",
   "execution_count": 7,
   "metadata": {},
   "outputs": [],
   "source": [
    "IMG_1_KEY = \"tutorial/1.input-login-info.png\"\n",
    "img_1 = pngs[IMG_1_KEY]\n",
    "assert img_1.size == (WIDTH_DEFAULT, HEIGHT_DEFAULT)\n",
    "img_1 = crop_relative(img_1, 0.0, 0, 1.0, 0.5)\n",
    "save_img_using_original_keyname(img_1, IMG_1_KEY)"
   ]
  },
  {
   "cell_type": "code",
   "execution_count": 8,
   "metadata": {},
   "outputs": [],
   "source": [
    "IMG_2_KEY = 'tutorial/2.project-top.png'\n",
    "img_2 = pngs[IMG_2_KEY]\n",
    "assert img_2.size == (WIDTH_DEFAULT, HEIGHT_DEFAULT)\n",
    "img_2 = add_box(img_2, 0.55, 0.1, 0.73, 0.17, linewidth=3)\n",
    "img_2 = crop_relative(img_2, 0.0, 0, 1.0, 0.6)\n",
    "save_img_using_original_keyname(img_2, IMG_2_KEY)"
   ]
  },
  {
   "cell_type": "code",
   "execution_count": 9,
   "metadata": {},
   "outputs": [],
   "source": [
    "IMG_3_KEY = 'tutorial/3.fill-project-info.png'\n",
    "img_3 = pngs[IMG_3_KEY]\n",
    "img_3 = crop_relative(img_3, 0.0, 0, 1.0, 0.8)\n",
    "save_img_using_original_keyname(img_3, IMG_3_KEY)"
   ]
  },
  {
   "cell_type": "code",
   "execution_count": 10,
   "metadata": {},
   "outputs": [],
   "source": [
    "IMG_4_KEY = 'tutorial/4.empty-project-top.png'\n",
    "img_4 = pngs[IMG_4_KEY]\n",
    "img_4 = crop_relative(img_4, 0.0, 0, 1.0, 0.6)\n",
    "save_img_using_original_keyname(img_4, IMG_4_KEY)"
   ]
  },
  {
   "cell_type": "code",
   "execution_count": 11,
   "metadata": {},
   "outputs": [],
   "source": [
    "IMG_5_KEY = 'tutorial/5.file-input.png'\n",
    "img_5 = pngs[IMG_5_KEY]\n",
    "img_5 = add_box(img_5, 0.117, 0.3, 0.955, 0.365)\n",
    "img_5 = crop_relative(img_5, 0, 0, 1, 0.6)\n",
    "save_img_using_original_keyname(img_5, IMG_5_KEY)"
   ]
  },
  {
   "cell_type": "code",
   "execution_count": 12,
   "metadata": {},
   "outputs": [],
   "source": [
    "IMG_6_KEY = 'tutorial/6.file-selection-done.png'\n",
    "img_6 = pngs[IMG_6_KEY]\n",
    "img_6 = crop_relative(img_6, 0, 0, 1, 0.6)\n",
    "save_img_using_original_keyname(img_6, IMG_6_KEY)"
   ]
  },
  {
   "cell_type": "code",
   "execution_count": 13,
   "metadata": {},
   "outputs": [],
   "source": [
    "IMG_7_KEY = 'tutorial/7.split-config.png'\n",
    "img_7 = pngs[IMG_7_KEY]\n",
    "img_7 = crop_relative(img_7, 0, 0, 1, 0.7)\n",
    "save_img_using_original_keyname(img_7, IMG_7_KEY)"
   ]
  },
  {
   "cell_type": "code",
   "execution_count": 14,
   "metadata": {},
   "outputs": [],
   "source": [
    "IMG_8_KEY = 'tutorial/8.evaluation-config.png'\n",
    "img_8 = pngs[IMG_8_KEY]\n",
    "img_8 = crop_relative(img_8, 0, 0, 1, 0.7)\n",
    "save_img_using_original_keyname(img_8, IMG_8_KEY)"
   ]
  },
  {
   "cell_type": "code",
   "execution_count": 15,
   "metadata": {},
   "outputs": [],
   "source": [
    "IMG_9_KEY = 'tutorial/9.job-config.png'\n",
    "img_9 = pngs[IMG_9_KEY]\n",
    "img_9 = crop_relative(img_9, 0, 0, 1, 0.7)\n",
    "save_img_using_original_keyname(img_9, IMG_9_KEY)"
   ]
  },
  {
   "cell_type": "code",
   "execution_count": 16,
   "metadata": {},
   "outputs": [],
   "source": [
    "IMG_10_KEY = 'tutorial/10.tuning-job.png'\n",
    "img_10 = pngs[IMG_10_KEY]\n",
    "img_10 = add_box(img_10, 0.075, 0.89, 0.97, 0.975, linewidth=3)\n",
    "save_img_using_original_keyname(img_10, IMG_10_KEY)"
   ]
  },
  {
   "cell_type": "code",
   "execution_count": 17,
   "metadata": {},
   "outputs": [],
   "source": [
    "IMG_11_KEY = 'tutorial/11.tuning-logs.png'\n",
    "img_11 = pngs[IMG_11_KEY]\n",
    "save_img_using_original_keyname(img_11, IMG_11_KEY)"
   ]
  },
  {
   "cell_type": "code",
   "execution_count": 18,
   "metadata": {},
   "outputs": [],
   "source": [
    "IMG_12_KEY = 'tutorial/12.tuning-results.png'\n",
    "img_12 = pngs[IMG_12_KEY]\n",
    "img_12 = add_box(img_12, 0.275, 0.51, 0.306, 0.57, linewidth=4)\n",
    "save_img_using_original_keyname(img_12, IMG_12_KEY)"
   ]
  },
  {
   "cell_type": "code",
   "execution_count": 19,
   "metadata": {},
   "outputs": [],
   "source": [
    "img_13 = pngs[img_names_aligned[12]]\n",
    "img_13 = crop_relative(img_13, 0.0, 0.0, 1, 0.6)\n",
    "save_img_using_original_keyname(img_13, img_names_aligned[12])"
   ]
  },
  {
   "cell_type": "code",
   "execution_count": 22,
   "metadata": {},
   "outputs": [],
   "source": [
    "img_14 = pngs[img_names_aligned[13]]\n",
    "save_img_using_original_keyname(img_14, img_names_aligned[13])"
   ]
  },
  {
   "cell_type": "code",
   "execution_count": 62,
   "metadata": {},
   "outputs": [],
   "source": [
    "img_15 = pngs[img_names_aligned[14]]\n",
    "img_15 = add_box(img_15, 0, 0.19, 0.043, 0.29, linewidth=3)\n",
    "img_15 = add_box(img_15, 0.85, 0.48, 0.96, 0.565, linewidth=3, color=\"blue\")\n",
    "save_img_using_original_keyname(crop_relative(img_15, 0, 0, 1.0, 0.8), img_names_aligned[14]);"
   ]
  },
  {
   "cell_type": "code",
   "execution_count": 82,
   "metadata": {},
   "outputs": [],
   "source": [
    "img_16 = pngs[img_names_aligned[15]]\n",
    "img_16 = add_box(img_16, 0.215, 0.43, 0.81, 0.5, linewidth=3)\n",
    "save_img_using_original_keyname(crop_relative(img_16, 0, .3, 1, .7), img_names_aligned[15])"
   ]
  },
  {
   "cell_type": "code",
   "execution_count": 103,
   "metadata": {},
   "outputs": [],
   "source": [
    "img_17 = pngs[img_names_aligned[16]]\n",
    "img_17 = add_box(img_17, 0, 0.365, 0.043, 0.47, linewidth=3)\n",
    "img_17 = add_box(img_17, 0.09, 0.295, 0.943, 0.37, linewidth=3, color=\"blue\")\n",
    "save_img_using_original_keyname(crop_relative(img_17, 0, 0, 1, 0.6), img_names_aligned[16])"
   ]
  },
  {
   "cell_type": "code",
   "execution_count": 126,
   "metadata": {},
   "outputs": [],
   "source": [
    "img_18 = pngs[img_names_aligned[17]]\n",
    "img_18 = add_box(img_18, 0.77, 0.41, 0.96, 0.48, linewidth=3)\n",
    "save_img_using_original_keyname(crop_relative(img_18, 0, 0, 1, 0.6), img_names_aligned[17])"
   ]
  },
  {
   "cell_type": "code",
   "execution_count": 131,
   "metadata": {},
   "outputs": [],
   "source": [
    "save_img_using_original_keyname(pngs[img_names_aligned[18]], img_names_aligned[18])"
   ]
  },
  {
   "cell_type": "code",
   "execution_count": 132,
   "metadata": {},
   "outputs": [
    {
     "data": {
      "text/plain": [
       "'tutorial/19.sample-with-metadata.png'"
      ]
     },
     "execution_count": 132,
     "metadata": {},
     "output_type": "execute_result"
    }
   ],
   "source": [
    "img_names_aligned[18]"
   ]
  },
  {
   "cell_type": "code",
   "execution_count": null,
   "metadata": {},
   "outputs": [],
   "source": []
  }
 ],
 "metadata": {
  "kernelspec": {
   "display_name": "Python 3.7.4 64-bit ('main': venv)",
   "language": "python",
   "name": "python37464bitmainvenv859a67c34419467482ffa49e17018b99"
  },
  "language_info": {
   "codemirror_mode": {
    "name": "ipython",
    "version": 3
   },
   "file_extension": ".py",
   "mimetype": "text/x-python",
   "name": "python",
   "nbconvert_exporter": "python",
   "pygments_lexer": "ipython3",
   "version": "3.7.4"
  }
 },
 "nbformat": 4,
 "nbformat_minor": 4
}
