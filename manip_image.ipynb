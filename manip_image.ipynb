{
 "cells": [
  {
   "cell_type": "code",
   "execution_count": 1,
   "metadata": {},
   "outputs": [],
   "source": [
    "from PIL import Image, ImageDraw\n",
    "from matplotlib import pyplot as plt\n",
    "from matplotlib.patches import Rectangle\n",
    "\n",
    "from pathlib import Path\n",
    "from zipfile import ZipFile"
   ]
  },
  {
   "cell_type": "code",
   "execution_count": 2,
   "metadata": {},
   "outputs": [],
   "source": [
    "INPUT_ZIP_PATH = Path('/home/tomoki/imgs.zip')\n",
    "OUTPUT_PATH = Path('/home/tomoki/recotem-docs/src/guide/tutorial')"
   ]
  },
  {
   "cell_type": "code",
   "execution_count": 3,
   "metadata": {},
   "outputs": [],
   "source": [
    "WIDTH_DEFAULT, HEIGHT_DEFAULT = (1280, 720)\n",
    "def crop_relative(img: Image.Image, left: float, upper: float, right: float, lower:float):\n",
    "    return img.crop(\n",
    "        (\n",
    "            int(left * WIDTH_DEFAULT), int(upper * HEIGHT_DEFAULT),\n",
    "            int(right * WIDTH_DEFAULT), int(lower * HEIGHT_DEFAULT)\n",
    "        )\n",
    "    )\n",
    "\n",
    "def add_box(img, left: float, upper:float, right: float, lower: float, edgecolor='r', linewidth=1):\n",
    "    img = img.copy()\n",
    "    xy1 = (int(left * WIDTH_DEFAULT), int(upper * HEIGHT_DEFAULT))\n",
    "    xy2 = (int(right * WIDTH_DEFAULT), int(lower * HEIGHT_DEFAULT))\n",
    "    draw = ImageDraw.Draw(img)\n",
    "    draw.rectangle((xy1, xy2), fill=None, outline='red', width=linewidth)\n",
    "    return img"
   ]
  },
  {
   "cell_type": "code",
   "execution_count": 4,
   "metadata": {},
   "outputs": [],
   "source": [
    "zf = ZipFile(INPUT_ZIP_PATH)\n",
    "pngs = {\n",
    "    x.filename: Image.open(zf.open(x)) for x in zf.filelist if x.filename.endswith('png')\n",
    "}"
   ]
  },
  {
   "cell_type": "code",
   "execution_count": 5,
   "metadata": {},
   "outputs": [],
   "source": [
    "def save_img_using_original_keyname(img: Image.Image, keyname: str):\n",
    "    img.save((OUTPUT_PATH / keyname.strip(\"tutorial/\")).open('wb'))    "
   ]
  },
  {
   "cell_type": "code",
   "execution_count": 6,
   "metadata": {},
   "outputs": [],
   "source": [
    "IMG_1_KEY = \"tutorial/1.input-login-info.png\"\n",
    "\n",
    "img_1 = pngs[IMG_1_KEY]\n",
    "assert img_1.size == (WIDTH_DEFAULT, HEIGHT_DEFAULT)\n",
    "img_1 = crop_relative(img_1, 0.25, 0, 0.75, 0.5)\n",
    "save_img_using_original_keyname(img_1, IMG_1_KEY)"
   ]
  },
  {
   "cell_type": "code",
   "execution_count": 8,
   "metadata": {},
   "outputs": [],
   "source": [
    "IMG_2_KEY = 'tutorial/2.project-top.png'\n",
    "img_2 = pngs[IMG_2_KEY]\n",
    "assert img_2.size == (WIDTH_DEFAULT, HEIGHT_DEFAULT)\n",
    "img_2 = add_box(img_2, 0.55, 0.1, 0.73, 0.17, linewidth=3)\n",
    "img_2 = crop_relative(img_2, 0.0, 0, 1.0, 0.6)\n",
    "save_img_using_original_keyname(img_2, IMG_2_KEY)"
   ]
  },
  {
   "cell_type": "code",
   "execution_count": 9,
   "metadata": {},
   "outputs": [],
   "source": [
    "IMG_3_KEY = 'tutorial/3.fill-project-info.png'\n",
    "img_3 = pngs[IMG_3_KEY]\n",
    "img_3 = crop_relative(img_3, 0.0, 0, 1.0, 0.8)\n",
    "save_img_using_original_keyname(img_3, IMG_3_KEY)"
   ]
  },
  {
   "cell_type": "code",
   "execution_count": 10,
   "metadata": {},
   "outputs": [],
   "source": [
    "IMG_4_KEY = 'tutorial/4.empty-project-top.png'\n",
    "img_4 = pngs[IMG_4_KEY]\n",
    "img_4 = crop_relative(img_4, 0.0, 0, 1.0, 0.6)\n",
    "save_img_using_original_keyname(img_4, IMG_4_KEY)"
   ]
  },
  {
   "cell_type": "code",
   "execution_count": 11,
   "metadata": {},
   "outputs": [],
   "source": [
    "IMG_5_KEY = 'tutorial/5.file-input.png'\n",
    "img_5 = pngs[IMG_5_KEY]\n",
    "img_5 = add_box(img_5, 0.117, 0.3, 0.955, 0.365)\n",
    "img_5 = crop_relative(img_5, 0, 0, 1, 0.6)\n",
    "save_img_using_original_keyname(img_5, IMG_5_KEY)"
   ]
  },
  {
   "cell_type": "code",
   "execution_count": 16,
   "metadata": {},
   "outputs": [],
   "source": [
    "IMG_6_KEY = 'tutorial/6.file-selection-done.png'\n",
    "img_6 = pngs[IMG_6_KEY]\n",
    "img_6 = crop_relative(img_6, 0, 0, 1, 0.6)\n",
    "save_img_using_original_keyname(img_6, IMG_6_KEY)"
   ]
  },
  {
   "cell_type": "code",
   "execution_count": null,
   "metadata": {},
   "outputs": [],
   "source": []
  }
 ],
 "metadata": {
  "kernelspec": {
   "display_name": "Python 3.7.4 64-bit ('main': venv)",
   "language": "python",
   "name": "python37464bitmainvenv859a67c34419467482ffa49e17018b99"
  },
  "language_info": {
   "codemirror_mode": {
    "name": "ipython",
    "version": 3
   },
   "file_extension": ".py",
   "mimetype": "text/x-python",
   "name": "python",
   "nbconvert_exporter": "python",
   "pygments_lexer": "ipython3",
   "version": "3.7.4"
  }
 },
 "nbformat": 4,
 "nbformat_minor": 4
}
