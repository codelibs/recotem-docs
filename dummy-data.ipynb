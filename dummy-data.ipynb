{
 "cells": [
  {
   "cell_type": "code",
   "execution_count": 1,
   "metadata": {},
   "outputs": [],
   "source": [
    "import numpy as np\n",
    "import random\n",
    "import pandas as pd\n",
    "import matplotlib.pyplot as plt\n",
    "\n",
    "from IPython.display import display"
   ]
  },
  {
   "cell_type": "code",
   "execution_count": 2,
   "metadata": {},
   "outputs": [],
   "source": [
    "code_1 = \"formal\"\n",
    "code_2 = \"casual\"\n",
    "codes = [code_1, code_2]\n",
    "CATEGORY_CENTERS = {\n",
    "    code_1: np.asfarray([1.0, 0.0]),\n",
    "    code_2: np.asfarray([-1.0, 0.0])\n",
    "}\n",
    "\n",
    "PRICE_AXIS = np.asfarray([0.0, 1.0])\n",
    "PRICE_MIN = 5\n",
    "PRICE_MAX = 1000\n",
    "PRICE_LOG_MEAN = (15 * 1000) ** .5"
   ]
  },
  {
   "cell_type": "code",
   "execution_count": 3,
   "metadata": {},
   "outputs": [],
   "source": [
    "N_ITEMS = 300\n",
    "N_USERS = 500\n",
    "N_BUY_AVG = 10\n",
    "NOISE_SCALE = 0.2\n",
    "\n",
    "item_data = []\n",
    "item_vectors = []\n",
    "for id_ in range(1, N_ITEMS + 1):\n",
    "    code = random.choice(codes)\n",
    "    center_1 = CATEGORY_CENTERS[code]\n",
    "    price_component = random.uniform(-1, 1)\n",
    "    center = PRICE_AXIS * price_component + center_1\n",
    "    price = int(np.exp(price_component) * PRICE_LOG_MEAN)\n",
    "    item_data.append(dict(item_id=id_, category=code, price=price))\n",
    "    \n",
    "    item_vectors.append(\n",
    "        center + NOISE_SCALE * np.random.randn(2)\n",
    "    )\n",
    "\n",
    "item_df = pd.DataFrame(item_data)\n",
    "item_vectors = np.asfarray(item_vectors)"
   ]
  },
  {
   "cell_type": "code",
   "execution_count": 4,
   "metadata": {},
   "outputs": [],
   "source": [
    "item_ids = item_df['item_id'].values\n",
    "log_df = []\n",
    "enhancement = 2\n",
    "for uid in range(1, N_USERS + 1):\n",
    "    n_buy = np.random.poisson(N_BUY_AVG) + 1\n",
    "    uvec = np.random.randn(2)\n",
    "    score = item_vectors.dot(uvec)\n",
    "    p = np.exp(score * enhancement)\n",
    "    p /= p.sum()\n",
    "    interactions = item_ids[np.where(np.random.multinomial(n_buy, p) > 0)]\n",
    "    for iid in interactions:\n",
    "        log_df.append(dict(user_id=uid, item_id=iid))"
   ]
  },
  {
   "cell_type": "code",
   "execution_count": 5,
   "metadata": {},
   "outputs": [],
   "source": [
    "log_df = pd.DataFrame(log_df)"
   ]
  },
  {
   "cell_type": "code",
   "execution_count": 6,
   "metadata": {},
   "outputs": [],
   "source": [
    "from irspack.utils import df_to_sparse\n",
    "from irspack import rowwise_train_test_split, autopilot, Evaluator"
   ]
  },
  {
   "cell_type": "code",
   "execution_count": 7,
   "metadata": {},
   "outputs": [],
   "source": [
    "X, uids, iids = df_to_sparse(log_df, user_colname=\"user_id\", item_colname=\"item_id\")"
   ]
  },
  {
   "cell_type": "code",
   "execution_count": 8,
   "metadata": {},
   "outputs": [],
   "source": [
    "X_train, X_test = rowwise_train_test_split(X, ceil_n_test=True, test_ratio=.2)\n",
    "evaluator = Evaluator(X_test)"
   ]
  },
  {
   "cell_type": "code",
   "execution_count": 9,
   "metadata": {},
   "outputs": [
    {
     "name": "stderr",
     "output_type": "stream",
     "text": [
      "\u001b[32m[IRSPACK:I 2021-08-08 02:16:16,545]\u001b[0m \u001b[34mTrying the following algorithms: ['RP3betaOptimizer', 'IALSOptimizer', 'DenseSLIMOptimizer', 'AsymmetricCosineKNNOptimizer', 'SLIMOptimizer']\u001b[0m\n",
      "\u001b[32m[I 2021-08-08 02:16:16,690]\u001b[0m A new study created in RDB with name: autopilot-9c8b3fcf-f7ee-11eb-ab96-04d4c4542edc\u001b[0m\n",
      "\u001b[32m[IRSPACK:I 2021-08-08 02:16:16,780]\u001b[0m \u001b[34mTrial 0:\u001b[0m\n",
      "\u001b[32m[IRSPACK:I 2021-08-08 02:16:16,782]\u001b[0m \u001b[34mparameter = {'beta': 0.0001542763011327778, 'normalize_weight': True, 'top_k': 130}\u001b[0m\n",
      "\u001b[32m[IRSPACK:I 2021-08-08 02:16:16,797]\u001b[0m \u001b[34mConfig 0 obtained the following scores: {'appeared_item': 220.0, 'entropy': 4.657871887340325, 'gini_index': 0.7380893333333334, 'hit': 0.416, 'map': 0.09376296296296298, 'n_items': 300.0, 'ndcg': 0.14946847642761668, 'precision': 0.0512, 'recall': 0.21966666666666665, 'total_user': 500.0, 'valid_user': 500.0} within 0.042337 seconds.\u001b[0m\n",
      "\u001b[32m[I 2021-08-08 02:16:16,828]\u001b[0m Trial 0 finished with value: -0.14946847642761668 and parameters: {'optimizer_name': 'RP3betaOptimizer', 'RP3betaOptimizer.beta': 0.0001542763011327778, 'RP3betaOptimizer.normalize_weight': True, 'RP3betaOptimizer.top_k': 130}. Best is trial 0 with value: -0.14946847642761668.\u001b[0m\n",
      "\u001b[32m[IRSPACK:I 2021-08-08 02:16:16,915]\u001b[0m \u001b[34mTrial 1:\u001b[0m\n",
      "\u001b[32m[IRSPACK:I 2021-08-08 02:16:16,917]\u001b[0m \u001b[34mparameter = {'alpha': 0.03093037709475251, 'l1_ratio': 0.7932832836846957, 'top_k': 783}\u001b[0m\n",
      "\u001b[32m[IRSPACK:I 2021-08-08 02:16:16,927]\u001b[0m \u001b[34mConfig 1 obtained the following scores: {'appeared_item': 17.0, 'entropy': 2.442137247130295, 'gini_index': 0.9654253333333334, 'hit': 0.094, 'map': 0.021564219576719577, 'n_items': 300.0, 'ndcg': 0.0328840969530418, 'precision': 0.009800000000000001, 'recall': 0.042499999999999996, 'total_user': 500.0, 'valid_user': 500.0} within 0.035621 seconds.\u001b[0m\n",
      "\u001b[32m[I 2021-08-08 02:16:16,959]\u001b[0m Trial 1 finished with value: -0.0328840969530418 and parameters: {'optimizer_name': 'SLIMOptimizer', 'SLIMOptimizer.alpha': 0.03093037709475251, 'SLIMOptimizer.l1_ratio': 0.7932832836846957, 'SLIMOptimizer.top_k': 783}. Best is trial 0 with value: -0.14946847642761668.\u001b[0m\n",
      "\u001b[32m[IRSPACK:I 2021-08-08 02:16:17,052]\u001b[0m \u001b[34mTrial 2:\u001b[0m\n",
      "\u001b[32m[IRSPACK:I 2021-08-08 02:16:17,054]\u001b[0m \u001b[34mparameter = {'alpha': 0.054760769219679754, 'l1_ratio': 0.8338651256737614, 'top_k': 731}\u001b[0m\n",
      "\u001b[32m[IRSPACK:I 2021-08-08 02:16:17,064]\u001b[0m \u001b[34mConfig 2 obtained the following scores: {'appeared_item': 13.0, 'entropy': 2.3693517100467694, 'gini_index': 0.9659933333333334, 'hit': 0.064, 'map': 0.006321759259259259, 'n_items': 300.0, 'ndcg': 0.01434117341644031, 'precision': 0.0066, 'recall': 0.027333333333333328, 'total_user': 500.0, 'valid_user': 500.0} within 0.040687 seconds.\u001b[0m\n",
      "\u001b[32m[I 2021-08-08 02:16:17,095]\u001b[0m Trial 2 finished with value: -0.01434117341644031 and parameters: {'optimizer_name': 'SLIMOptimizer', 'SLIMOptimizer.alpha': 0.054760769219679754, 'SLIMOptimizer.l1_ratio': 0.8338651256737614, 'SLIMOptimizer.top_k': 731}. Best is trial 0 with value: -0.14946847642761668.\u001b[0m\n",
      "\u001b[32m[IRSPACK:I 2021-08-08 02:16:17,187]\u001b[0m \u001b[34mTrial 3:\u001b[0m\n",
      "\u001b[32m[IRSPACK:I 2021-08-08 02:16:17,189]\u001b[0m \u001b[34mparameter = {'beta': 0.007915775528248382, 'normalize_weight': False, 'top_k': 7}\u001b[0m\n",
      "\u001b[32m[IRSPACK:I 2021-08-08 02:16:17,200]\u001b[0m \u001b[34mConfig 3 obtained the following scores: {'appeared_item': 299.0, 'entropy': 5.472909270212349, 'gini_index': 0.37761866666666666, 'hit': 0.228, 'map': 0.04415707671957672, 'n_items': 300.0, 'ndcg': 0.07305563754201791, 'precision': 0.025400000000000006, 'recall': 0.10666666666666666, 'total_user': 500.0, 'valid_user': 500.0} within 0.037711 seconds.\u001b[0m\n",
      "\u001b[32m[I 2021-08-08 02:16:17,233]\u001b[0m Trial 3 finished with value: -0.07305563754201791 and parameters: {'optimizer_name': 'RP3betaOptimizer', 'RP3betaOptimizer.beta': 0.007915775528248382, 'RP3betaOptimizer.normalize_weight': False, 'RP3betaOptimizer.top_k': 7}. Best is trial 0 with value: -0.14946847642761668.\u001b[0m\n",
      "\u001b[32m[IRSPACK:I 2021-08-08 02:16:17,326]\u001b[0m \u001b[34mTrial 4:\u001b[0m\n",
      "\u001b[32m[IRSPACK:I 2021-08-08 02:16:17,328]\u001b[0m \u001b[34mparameter = {'alpha': 17.926357574329035, 'reg': 4.927843612403619e-09, 'n_components': 204}\u001b[0m\n"
     ]
    },
    {
     "data": {
      "text/html": [
       "\n",
       "    <div>\n",
       "        <style>\n",
       "            /* Turns off some styling */\n",
       "            progress {\n",
       "                /* gets rid of default border in Firefox and Opera. */\n",
       "                border: none;\n",
       "                /* Needs to be in here for Safari polyfill so background images work as expected. */\n",
       "                background-size: auto;\n",
       "            }\n",
       "            .progress-bar-interrupted, .progress-bar-interrupted::-webkit-progress-bar {\n",
       "                background: #F44336;\n",
       "            }\n",
       "        </style>\n",
       "      <progress value='24' class='' max='512' style='width:300px; height:20px; vertical-align: middle;'></progress>\n",
       "      4.69% [24/512 00:00<00:03 ndcg@10=0.02674562209230863]\n",
       "    </div>\n",
       "    "
      ],
      "text/plain": [
       "<IPython.core.display.HTML object>"
      ]
     },
     "metadata": {},
     "output_type": "display_data"
    },
    {
     "name": "stderr",
     "output_type": "stream",
     "text": [
      "\u001b[32m[IRSPACK:I 2021-08-08 02:16:17,631]\u001b[0m \u001b[34mConfig 4 obtained the following scores: {'appeared_item': 297.0, 'entropy': 5.521184774258946, 'gini_index': 0.324588, 'hit': 0.102, 'map': 0.014035383597883599, 'n_items': 300.0, 'ndcg': 0.02699121336951469, 'precision': 0.010600000000000002, 'recall': 0.043, 'total_user': 500.0, 'valid_user': 500.0} within 0.328474 seconds.\u001b[0m\n",
      "\u001b[32m[I 2021-08-08 02:16:17,672]\u001b[0m Trial 4 finished with value: -0.02699121336951469 and parameters: {'optimizer_name': 'IALSOptimizer', 'IALSOptimizer.alpha': 17.926357574329035, 'IALSOptimizer.reg': 4.927843612403619e-09, 'IALSOptimizer.n_components': 204}. Best is trial 0 with value: -0.14946847642761668.\u001b[0m\n",
      "\u001b[32m[IRSPACK:I 2021-08-08 02:16:17,771]\u001b[0m \u001b[34mTrial 5:\u001b[0m\n",
      "\u001b[32m[IRSPACK:I 2021-08-08 02:16:17,773]\u001b[0m \u001b[34mparameter = {'shrinkage': 644.1844855581431, 'feature_weighting': 'BM_25', 'alpha': 0.274622045445714, 'top_k': 964}\u001b[0m\n",
      "\u001b[32m[IRSPACK:I 2021-08-08 02:16:17,788]\u001b[0m \u001b[34mConfig 5 obtained the following scores: {'appeared_item': 251.0, 'entropy': 4.829216338300664, 'gini_index': 0.6908106666666667, 'hit': 0.408, 'map': 0.09060476190476188, 'n_items': 300.0, 'ndcg': 0.14576337778282278, 'precision': 0.050600000000000006, 'recall': 0.21783333333333332, 'total_user': 500.0, 'valid_user': 500.0} within 0.049114 seconds.\u001b[0m\n",
      "\u001b[32m[I 2021-08-08 02:16:17,818]\u001b[0m Trial 5 finished with value: -0.14576337778282278 and parameters: {'optimizer_name': 'AsymmetricCosineKNNOptimizer', 'AsymmetricCosineKNNOptimizer.shrinkage': 644.1844855581431, 'AsymmetricCosineKNNOptimizer.feature_weighting': 'BM_25', 'AsymmetricCosineKNNOptimizer.alpha': 0.274622045445714, 'AsymmetricCosineKNNOptimizer.top_k': 964}. Best is trial 0 with value: -0.14946847642761668.\u001b[0m\n",
      "\u001b[32m[IRSPACK:I 2021-08-08 02:16:17,914]\u001b[0m \u001b[34mTrial 6:\u001b[0m\n",
      "\u001b[32m[IRSPACK:I 2021-08-08 02:16:17,916]\u001b[0m \u001b[34mparameter = {'beta': 0.0007967066765983909, 'normalize_weight': False, 'top_k': 915}\u001b[0m\n",
      "\u001b[32m[IRSPACK:I 2021-08-08 02:16:17,934]\u001b[0m \u001b[34mConfig 6 obtained the following scores: {'appeared_item': 220.0, 'entropy': 4.6535619957152905, 'gini_index': 0.7391093333333333, 'hit': 0.416, 'map': 0.09350158730158728, 'n_items': 300.0, 'ndcg': 0.14917156200390455, 'precision': 0.05120000000000001, 'recall': 0.21966666666666665, 'total_user': 500.0, 'valid_user': 500.0} within 0.048261 seconds.\u001b[0m\n",
      "\u001b[32m[I 2021-08-08 02:16:17,966]\u001b[0m Trial 6 finished with value: -0.14917156200390455 and parameters: {'optimizer_name': 'RP3betaOptimizer', 'RP3betaOptimizer.beta': 0.0007967066765983909, 'RP3betaOptimizer.normalize_weight': False, 'RP3betaOptimizer.top_k': 915}. Best is trial 0 with value: -0.14946847642761668.\u001b[0m\n",
      "\u001b[32m[IRSPACK:I 2021-08-08 02:16:18,059]\u001b[0m \u001b[34mTrial 7:\u001b[0m\n",
      "\u001b[32m[IRSPACK:I 2021-08-08 02:16:18,061]\u001b[0m \u001b[34mparameter = {'alpha': 0.5844275664035473, 'l1_ratio': 0.6302440636035128, 'top_k': 474}\u001b[0m\n",
      "\u001b[32m[IRSPACK:I 2021-08-08 02:16:18,072]\u001b[0m \u001b[34mConfig 7 obtained the following scores: {'appeared_item': 13.0, 'entropy': 2.3693517100467694, 'gini_index': 0.9659933333333334, 'hit': 0.064, 'map': 0.00632175925925926, 'n_items': 300.0, 'ndcg': 0.014341173416440312, 'precision': 0.0066, 'recall': 0.02733333333333333, 'total_user': 500.0, 'valid_user': 500.0} within 0.036164 seconds.\u001b[0m\n",
      "\u001b[32m[I 2021-08-08 02:16:18,102]\u001b[0m Trial 7 finished with value: -0.014341173416440312 and parameters: {'optimizer_name': 'SLIMOptimizer', 'SLIMOptimizer.alpha': 0.5844275664035473, 'SLIMOptimizer.l1_ratio': 0.6302440636035128, 'SLIMOptimizer.top_k': 474}. Best is trial 0 with value: -0.14946847642761668.\u001b[0m\n",
      "\u001b[32m[IRSPACK:I 2021-08-08 02:16:18,205]\u001b[0m \u001b[34mTrial 8:\u001b[0m\n",
      "\u001b[32m[IRSPACK:I 2021-08-08 02:16:18,207]\u001b[0m \u001b[34mparameter = {'shrinkage': 56.751872336318286, 'feature_weighting': 'TF_IDF', 'alpha': 0.24362089618363025, 'top_k': 459}\u001b[0m\n",
      "\u001b[32m[IRSPACK:I 2021-08-08 02:16:18,222]\u001b[0m \u001b[34mConfig 8 obtained the following scores: {'appeared_item': 286.0, 'entropy': 5.1266681668328085, 'gini_index': 0.5781653333333333, 'hit': 0.388, 'map': 0.08307030423280422, 'n_items': 300.0, 'ndcg': 0.13471990768096107, 'precision': 0.04580000000000001, 'recall': 0.19883333333333333, 'total_user': 500.0, 'valid_user': 500.0} within 0.049579 seconds.\u001b[0m\n",
      "\u001b[32m[I 2021-08-08 02:16:18,254]\u001b[0m Trial 8 finished with value: -0.13471990768096107 and parameters: {'optimizer_name': 'AsymmetricCosineKNNOptimizer', 'AsymmetricCosineKNNOptimizer.shrinkage': 56.751872336318286, 'AsymmetricCosineKNNOptimizer.feature_weighting': 'TF_IDF', 'AsymmetricCosineKNNOptimizer.alpha': 0.24362089618363025, 'AsymmetricCosineKNNOptimizer.top_k': 459}. Best is trial 0 with value: -0.14946847642761668.\u001b[0m\n",
      "\u001b[32m[IRSPACK:I 2021-08-08 02:16:18,348]\u001b[0m \u001b[34mTrial 9:\u001b[0m\n",
      "\u001b[32m[IRSPACK:I 2021-08-08 02:16:18,350]\u001b[0m \u001b[34mparameter = {'alpha': 1.8043014887278936, 'reg': 9.982834578521491e-05, 'n_components': 27}\u001b[0m\n"
     ]
    },
    {
     "data": {
      "text/html": [
       "\n",
       "    <div>\n",
       "        <style>\n",
       "            /* Turns off some styling */\n",
       "            progress {\n",
       "                /* gets rid of default border in Firefox and Opera. */\n",
       "                border: none;\n",
       "                /* Needs to be in here for Safari polyfill so background images work as expected. */\n",
       "                background-size: auto;\n",
       "            }\n",
       "            .progress-bar-interrupted, .progress-bar-interrupted::-webkit-progress-bar {\n",
       "                background: #F44336;\n",
       "            }\n",
       "        </style>\n",
       "      <progress value='31' class='' max='512' style='width:300px; height:20px; vertical-align: middle;'></progress>\n",
       "      6.05% [31/512 00:00<00:02 ndcg@10=0.1120040840835861]\n",
       "    </div>\n",
       "    "
      ],
      "text/plain": [
       "<IPython.core.display.HTML object>"
      ]
     },
     "metadata": {},
     "output_type": "display_data"
    },
    {
     "name": "stderr",
     "output_type": "stream",
     "text": [
      "\u001b[32m[IRSPACK:I 2021-08-08 02:16:18,598]\u001b[0m \u001b[34mConfig 9 obtained the following scores: {'appeared_item': 256.0, 'entropy': 5.255965018247246, 'gini_index': 0.5031386666666666, 'hit': 0.334, 'map': 0.07094563492063491, 'n_items': 300.0, 'ndcg': 0.11386526237644679, 'precision': 0.0386, 'recall': 0.1658333333333333, 'total_user': 500.0, 'valid_user': 500.0} within 0.274684 seconds.\u001b[0m\n",
      "\u001b[32m[I 2021-08-08 02:16:18,633]\u001b[0m Trial 9 finished with value: -0.11386526237644679 and parameters: {'optimizer_name': 'IALSOptimizer', 'IALSOptimizer.alpha': 1.8043014887278936, 'IALSOptimizer.reg': 9.982834578521491e-05, 'IALSOptimizer.n_components': 27}. Best is trial 0 with value: -0.14946847642761668.\u001b[0m\n",
      "\u001b[32m[IRSPACK:I 2021-08-08 02:16:18,719]\u001b[0m \u001b[34mTrial 10:\u001b[0m\n",
      "\u001b[32m[IRSPACK:I 2021-08-08 02:16:18,720]\u001b[0m \u001b[34mparameter = {'reg': 19.17108949777185}\u001b[0m\n",
      "\u001b[32m[IRSPACK:I 2021-08-08 02:16:18,910]\u001b[0m \u001b[34mConfig 10 obtained the following scores: {'appeared_item': 276.0, 'entropy': 5.16124052696234, 'gini_index': 0.5608733333333333, 'hit': 0.374, 'map': 0.07967182539682538, 'n_items': 300.0, 'ndcg': 0.12912903014608637, 'precision': 0.04359999999999999, 'recall': 0.18783333333333332, 'total_user': 500.0, 'valid_user': 500.0} within 0.202686 seconds.\u001b[0m\n",
      "\u001b[32m[I 2021-08-08 02:16:18,939]\u001b[0m Trial 10 finished with value: -0.12912903014608637 and parameters: {'optimizer_name': 'DenseSLIMOptimizer', 'DenseSLIMOptimizer.reg': 19.17108949777185}. Best is trial 0 with value: -0.14946847642761668.\u001b[0m\n",
      "\u001b[32m[IRSPACK:I 2021-08-08 02:16:19,041]\u001b[0m \u001b[34mTrial 11:\u001b[0m\n",
      "\u001b[32m[IRSPACK:I 2021-08-08 02:16:19,043]\u001b[0m \u001b[34mparameter = {'beta': 5.7010591684207704e-05, 'normalize_weight': True, 'top_k': 996}\u001b[0m\n",
      "\u001b[32m[IRSPACK:I 2021-08-08 02:16:19,057]\u001b[0m \u001b[34mConfig 11 obtained the following scores: {'appeared_item': 220.0, 'entropy': 4.653070887991493, 'gini_index': 0.7392133333333333, 'hit': 0.416, 'map': 0.0935015873015873, 'n_items': 300.0, 'ndcg': 0.14917156200390458, 'precision': 0.0512, 'recall': 0.21966666666666665, 'total_user': 500.0, 'valid_user': 500.0} within 0.046136 seconds.\u001b[0m\n",
      "\u001b[32m[I 2021-08-08 02:16:19,090]\u001b[0m Trial 11 finished with value: -0.14917156200390458 and parameters: {'optimizer_name': 'RP3betaOptimizer', 'RP3betaOptimizer.beta': 5.7010591684207704e-05, 'RP3betaOptimizer.normalize_weight': True, 'RP3betaOptimizer.top_k': 996}. Best is trial 0 with value: -0.14946847642761668.\u001b[0m\n",
      "\u001b[32m[IRSPACK:I 2021-08-08 02:16:19,195]\u001b[0m \u001b[34mTrial 12:\u001b[0m\n",
      "\u001b[32m[IRSPACK:I 2021-08-08 02:16:19,197]\u001b[0m \u001b[34mparameter = {'beta': 1.0338554820526227e-05, 'normalize_weight': True, 'top_k': 140}\u001b[0m\n",
      "\u001b[32m[IRSPACK:I 2021-08-08 02:16:19,212]\u001b[0m \u001b[34mConfig 12 obtained the following scores: {'appeared_item': 220.0, 'entropy': 4.6537415318134565, 'gini_index': 0.7390773333333334, 'hit': 0.416, 'map': 0.09354603174603174, 'n_items': 300.0, 'ndcg': 0.14922736593182195, 'precision': 0.0512, 'recall': 0.21966666666666665, 'total_user': 500.0, 'valid_user': 500.0} within 0.048643 seconds.\u001b[0m\n",
      "\u001b[32m[I 2021-08-08 02:16:19,242]\u001b[0m Trial 12 finished with value: -0.14922736593182195 and parameters: {'optimizer_name': 'RP3betaOptimizer', 'RP3betaOptimizer.beta': 1.0338554820526227e-05, 'RP3betaOptimizer.normalize_weight': True, 'RP3betaOptimizer.top_k': 140}. Best is trial 0 with value: -0.14946847642761668.\u001b[0m\n",
      "\u001b[32m[IRSPACK:I 2021-08-08 02:16:19,344]\u001b[0m \u001b[34mTrial 13:\u001b[0m\n",
      "\u001b[32m[IRSPACK:I 2021-08-08 02:16:19,346]\u001b[0m \u001b[34mparameter = {'beta': 1.3312892443117813e-05, 'normalize_weight': True, 'top_k': 87}\u001b[0m\n",
      "\u001b[32m[IRSPACK:I 2021-08-08 02:16:19,360]\u001b[0m \u001b[34mConfig 13 obtained the following scores: {'appeared_item': 225.0, 'entropy': 4.7522584159657235, 'gini_index': 0.7127826666666667, 'hit': 0.398, 'map': 0.0896422619047619, 'n_items': 300.0, 'ndcg': 0.1436499526721481, 'precision': 0.049400000000000006, 'recall': 0.2115, 'total_user': 500.0, 'valid_user': 500.0} within 0.047679 seconds.\u001b[0m\n",
      "\u001b[32m[I 2021-08-08 02:16:19,396]\u001b[0m Trial 13 finished with value: -0.1436499526721481 and parameters: {'optimizer_name': 'RP3betaOptimizer', 'RP3betaOptimizer.beta': 1.3312892443117813e-05, 'RP3betaOptimizer.normalize_weight': True, 'RP3betaOptimizer.top_k': 87}. Best is trial 0 with value: -0.14946847642761668.\u001b[0m\n",
      "\u001b[32m[IRSPACK:I 2021-08-08 02:16:19,498]\u001b[0m \u001b[34mTrial 14:\u001b[0m\n",
      "\u001b[32m[IRSPACK:I 2021-08-08 02:16:19,500]\u001b[0m \u001b[34mparameter = {'beta': 0.00014929194652056285, 'normalize_weight': True, 'top_k': 351}\u001b[0m\n",
      "\u001b[32m[IRSPACK:I 2021-08-08 02:16:19,516]\u001b[0m \u001b[34mConfig 14 obtained the following scores: {'appeared_item': 220.0, 'entropy': 4.653070887991493, 'gini_index': 0.7392133333333333, 'hit': 0.416, 'map': 0.09350158730158731, 'n_items': 300.0, 'ndcg': 0.14917156200390458, 'precision': 0.0512, 'recall': 0.21966666666666668, 'total_user': 500.0, 'valid_user': 500.0} within 0.049899 seconds.\u001b[0m\n",
      "\u001b[32m[I 2021-08-08 02:16:19,548]\u001b[0m Trial 14 finished with value: -0.14917156200390458 and parameters: {'optimizer_name': 'RP3betaOptimizer', 'RP3betaOptimizer.beta': 0.00014929194652056285, 'RP3betaOptimizer.normalize_weight': True, 'RP3betaOptimizer.top_k': 351}. Best is trial 0 with value: -0.14946847642761668.\u001b[0m\n",
      "\u001b[32m[IRSPACK:I 2021-08-08 02:16:19,659]\u001b[0m \u001b[34mTrial 15:\u001b[0m\n",
      "\u001b[32m[IRSPACK:I 2021-08-08 02:16:19,661]\u001b[0m \u001b[34mparameter = {'beta': 1.6552115849994067e-05, 'normalize_weight': True, 'top_k': 305}\u001b[0m\n",
      "\u001b[32m[IRSPACK:I 2021-08-08 02:16:19,676]\u001b[0m \u001b[34mConfig 15 obtained the following scores: {'appeared_item': 220.0, 'entropy': 4.653070887991493, 'gini_index': 0.7392133333333333, 'hit': 0.416, 'map': 0.09350158730158731, 'n_items': 300.0, 'ndcg': 0.14917156200390458, 'precision': 0.0512, 'recall': 0.21966666666666665, 'total_user': 500.0, 'valid_user': 500.0} within 0.053039 seconds.\u001b[0m\n",
      "\u001b[32m[I 2021-08-08 02:16:19,709]\u001b[0m Trial 15 finished with value: -0.14917156200390458 and parameters: {'optimizer_name': 'RP3betaOptimizer', 'RP3betaOptimizer.beta': 1.6552115849994067e-05, 'RP3betaOptimizer.normalize_weight': True, 'RP3betaOptimizer.top_k': 305}. Best is trial 0 with value: -0.14946847642761668.\u001b[0m\n",
      "\u001b[32m[IRSPACK:I 2021-08-08 02:16:19,793]\u001b[0m \u001b[34mTrial 16:\u001b[0m\n",
      "\u001b[32m[IRSPACK:I 2021-08-08 02:16:19,795]\u001b[0m \u001b[34mparameter = {'reg': 6784.680331304157}\u001b[0m\n",
      "\u001b[32m[IRSPACK:I 2021-08-08 02:16:19,973]\u001b[0m \u001b[34mConfig 16 obtained the following scores: {'appeared_item': 213.0, 'entropy': 4.586886349489849, 'gini_index': 0.7573746666666666, 'hit': 0.41, 'map': 0.09826851851851852, 'n_items': 300.0, 'ndcg': 0.1526050223503845, 'precision': 0.050199999999999995, 'recall': 0.218, 'total_user': 500.0, 'valid_user': 500.0} within 0.190583 seconds.\u001b[0m\n",
      "\u001b[32m[I 2021-08-08 02:16:20,002]\u001b[0m Trial 16 finished with value: -0.1526050223503845 and parameters: {'optimizer_name': 'DenseSLIMOptimizer', 'DenseSLIMOptimizer.reg': 6784.680331304157}. Best is trial 16 with value: -0.1526050223503845.\u001b[0m\n",
      "\u001b[32m[IRSPACK:I 2021-08-08 02:16:20,091]\u001b[0m \u001b[34mTrial 17:\u001b[0m\n",
      "\u001b[32m[IRSPACK:I 2021-08-08 02:16:20,093]\u001b[0m \u001b[34mparameter = {'reg': 6295.310096761662}\u001b[0m\n",
      "\u001b[32m[IRSPACK:I 2021-08-08 02:16:20,298]\u001b[0m \u001b[34mConfig 17 obtained the following scores: {'appeared_item': 213.0, 'entropy': 4.586886349489849, 'gini_index': 0.7573746666666666, 'hit': 0.41, 'map': 0.09826851851851852, 'n_items': 300.0, 'ndcg': 0.1526050223503845, 'precision': 0.05019999999999999, 'recall': 0.21799999999999997, 'total_user': 500.0, 'valid_user': 500.0} within 0.220602 seconds.\u001b[0m\n",
      "\u001b[32m[I 2021-08-08 02:16:20,330]\u001b[0m Trial 17 finished with value: -0.1526050223503845 and parameters: {'optimizer_name': 'DenseSLIMOptimizer', 'DenseSLIMOptimizer.reg': 6295.310096761662}. Best is trial 16 with value: -0.1526050223503845.\u001b[0m\n",
      "\u001b[32m[IRSPACK:I 2021-08-08 02:16:20,421]\u001b[0m \u001b[34mTrial 18:\u001b[0m\n",
      "\u001b[32m[IRSPACK:I 2021-08-08 02:16:20,423]\u001b[0m \u001b[34mparameter = {'reg': 9654.756192899014}\u001b[0m\n",
      "\u001b[32m[IRSPACK:I 2021-08-08 02:16:20,599]\u001b[0m \u001b[34mConfig 18 obtained the following scores: {'appeared_item': 213.0, 'entropy': 4.586886349489849, 'gini_index': 0.7573746666666666, 'hit': 0.41, 'map': 0.09826851851851852, 'n_items': 300.0, 'ndcg': 0.1526050223503845, 'precision': 0.05019999999999999, 'recall': 0.218, 'total_user': 500.0, 'valid_user': 500.0} within 0.189994 seconds.\u001b[0m\n",
      "\u001b[32m[I 2021-08-08 02:16:20,628]\u001b[0m Trial 18 finished with value: -0.1526050223503845 and parameters: {'optimizer_name': 'DenseSLIMOptimizer', 'DenseSLIMOptimizer.reg': 9654.756192899014}. Best is trial 16 with value: -0.1526050223503845.\u001b[0m\n",
      "\u001b[32m[IRSPACK:I 2021-08-08 02:16:20,715]\u001b[0m \u001b[34mTrial 19:\u001b[0m\n",
      "\u001b[32m[IRSPACK:I 2021-08-08 02:16:20,717]\u001b[0m \u001b[34mparameter = {'reg': 8758.122420430753}\u001b[0m\n",
      "\u001b[32m[IRSPACK:I 2021-08-08 02:16:20,897]\u001b[0m \u001b[34mConfig 19 obtained the following scores: {'appeared_item': 213.0, 'entropy': 4.586886349489849, 'gini_index': 0.7573746666666666, 'hit': 0.41, 'map': 0.09826851851851852, 'n_items': 300.0, 'ndcg': 0.1526050223503845, 'precision': 0.0502, 'recall': 0.218, 'total_user': 500.0, 'valid_user': 500.0} within 0.194517 seconds.\u001b[0m\n",
      "\u001b[32m[I 2021-08-08 02:16:20,929]\u001b[0m Trial 19 finished with value: -0.1526050223503845 and parameters: {'optimizer_name': 'DenseSLIMOptimizer', 'DenseSLIMOptimizer.reg': 8758.122420430753}. Best is trial 16 with value: -0.1526050223503845.\u001b[0m\n",
      "\u001b[32m[IRSPACK:I 2021-08-08 02:16:21,020]\u001b[0m \u001b[34mTrial 20:\u001b[0m\n",
      "\u001b[32m[IRSPACK:I 2021-08-08 02:16:21,022]\u001b[0m \u001b[34mparameter = {'reg': 1167.0333378028051}\u001b[0m\n",
      "\u001b[32m[IRSPACK:I 2021-08-08 02:16:21,199]\u001b[0m \u001b[34mConfig 20 obtained the following scores: {'appeared_item': 213.0, 'entropy': 4.587250452122246, 'gini_index': 0.7572746666666667, 'hit': 0.41, 'map': 0.09822089947089947, 'n_items': 300.0, 'ndcg': 0.15257697227192515, 'precision': 0.05019999999999999, 'recall': 0.21799999999999997, 'total_user': 500.0, 'valid_user': 500.0} within 0.189711 seconds.\u001b[0m\n",
      "\u001b[32m[I 2021-08-08 02:16:21,229]\u001b[0m Trial 20 finished with value: -0.15257697227192515 and parameters: {'optimizer_name': 'DenseSLIMOptimizer', 'DenseSLIMOptimizer.reg': 1167.0333378028051}. Best is trial 16 with value: -0.1526050223503845.\u001b[0m\n",
      "\u001b[32m[IRSPACK:I 2021-08-08 02:16:21,319]\u001b[0m \u001b[34mTrial 21:\u001b[0m\n",
      "\u001b[32m[IRSPACK:I 2021-08-08 02:16:21,321]\u001b[0m \u001b[34mparameter = {'reg': 9848.81854308014}\u001b[0m\n",
      "\u001b[32m[IRSPACK:I 2021-08-08 02:16:21,500]\u001b[0m \u001b[34mConfig 21 obtained the following scores: {'appeared_item': 213.0, 'entropy': 4.586886349489849, 'gini_index': 0.7573746666666666, 'hit': 0.41, 'map': 0.0982685185185185, 'n_items': 300.0, 'ndcg': 0.1526050223503845, 'precision': 0.050199999999999974, 'recall': 0.21799999999999997, 'total_user': 500.0, 'valid_user': 500.0} within 0.194124 seconds.\u001b[0m\n",
      "\u001b[32m[I 2021-08-08 02:16:21,532]\u001b[0m Trial 21 finished with value: -0.1526050223503845 and parameters: {'optimizer_name': 'DenseSLIMOptimizer', 'DenseSLIMOptimizer.reg': 9848.81854308014}. Best is trial 16 with value: -0.1526050223503845.\u001b[0m\n",
      "\u001b[32m[IRSPACK:I 2021-08-08 02:16:21,622]\u001b[0m \u001b[34mTrial 22:\u001b[0m\n",
      "\u001b[32m[IRSPACK:I 2021-08-08 02:16:21,624]\u001b[0m \u001b[34mparameter = {'reg': 7740.8614886093155}\u001b[0m\n",
      "\u001b[32m[IRSPACK:I 2021-08-08 02:16:21,811]\u001b[0m \u001b[34mConfig 22 obtained the following scores: {'appeared_item': 213.0, 'entropy': 4.586886349489849, 'gini_index': 0.7573746666666666, 'hit': 0.41, 'map': 0.09826851851851852, 'n_items': 300.0, 'ndcg': 0.1526050223503845, 'precision': 0.0502, 'recall': 0.218, 'total_user': 500.0, 'valid_user': 500.0} within 0.202996 seconds.\u001b[0m\n",
      "\u001b[32m[I 2021-08-08 02:16:21,841]\u001b[0m Trial 22 finished with value: -0.1526050223503845 and parameters: {'optimizer_name': 'DenseSLIMOptimizer', 'DenseSLIMOptimizer.reg': 7740.8614886093155}. Best is trial 16 with value: -0.1526050223503845.\u001b[0m\n",
      "\u001b[32m[IRSPACK:I 2021-08-08 02:16:21,924]\u001b[0m \u001b[34mTrial 23:\u001b[0m\n",
      "\u001b[32m[IRSPACK:I 2021-08-08 02:16:21,926]\u001b[0m \u001b[34mparameter = {'reg': 627.8887136320658}\u001b[0m\n",
      "\u001b[32m[IRSPACK:I 2021-08-08 02:16:22,103]\u001b[0m \u001b[34mConfig 23 obtained the following scores: {'appeared_item': 213.0, 'entropy': 4.597814043498701, 'gini_index': 0.7546986666666666, 'hit': 0.414, 'map': 0.09849219576719578, 'n_items': 300.0, 'ndcg': 0.15352854786722003, 'precision': 0.0508, 'recall': 0.22049999999999997, 'total_user': 500.0, 'valid_user': 500.0} within 0.189451 seconds.\u001b[0m\n",
      "\u001b[32m[I 2021-08-08 02:16:22,133]\u001b[0m Trial 23 finished with value: -0.15352854786722003 and parameters: {'optimizer_name': 'DenseSLIMOptimizer', 'DenseSLIMOptimizer.reg': 627.8887136320658}. Best is trial 23 with value: -0.15352854786722003.\u001b[0m\n",
      "\u001b[32m[IRSPACK:I 2021-08-08 02:16:22,220]\u001b[0m \u001b[34mTrial 24:\u001b[0m\n",
      "\u001b[32m[IRSPACK:I 2021-08-08 02:16:22,222]\u001b[0m \u001b[34mparameter = {'reg': 339.55508305313}\u001b[0m\n",
      "\u001b[32m[IRSPACK:I 2021-08-08 02:16:22,400]\u001b[0m \u001b[34mConfig 24 obtained the following scores: {'appeared_item': 216.0, 'entropy': 4.640201137237942, 'gini_index': 0.7439533333333334, 'hit': 0.416, 'map': 0.09812552910052909, 'n_items': 300.0, 'ndcg': 0.15332218417618204, 'precision': 0.050800000000000005, 'recall': 0.22016666666666665, 'total_user': 500.0, 'valid_user': 500.0} within 0.192729 seconds.\u001b[0m\n",
      "\u001b[32m[I 2021-08-08 02:16:22,433]\u001b[0m Trial 24 finished with value: -0.15332218417618204 and parameters: {'optimizer_name': 'DenseSLIMOptimizer', 'DenseSLIMOptimizer.reg': 339.55508305313}. Best is trial 23 with value: -0.15352854786722003.\u001b[0m\n",
      "\u001b[32m[IRSPACK:I 2021-08-08 02:16:22,523]\u001b[0m \u001b[34mTrial 25:\u001b[0m\n",
      "\u001b[32m[IRSPACK:I 2021-08-08 02:16:22,525]\u001b[0m \u001b[34mparameter = {'reg': 220.9362751675559}\u001b[0m\n",
      "\u001b[32m[IRSPACK:I 2021-08-08 02:16:22,701]\u001b[0m \u001b[34mConfig 25 obtained the following scores: {'appeared_item': 223.0, 'entropy': 4.692368716911661, 'gini_index': 0.730028, 'hit': 0.412, 'map': 0.09666296296296296, 'n_items': 300.0, 'ndcg': 0.15160508102467238, 'precision': 0.05039999999999999, 'recall': 0.21716666666666662, 'total_user': 500.0, 'valid_user': 500.0} within 0.188949 seconds.\u001b[0m\n",
      "\u001b[32m[I 2021-08-08 02:16:22,735]\u001b[0m Trial 25 finished with value: -0.15160508102467238 and parameters: {'optimizer_name': 'DenseSLIMOptimizer', 'DenseSLIMOptimizer.reg': 220.9362751675559}. Best is trial 23 with value: -0.15352854786722003.\u001b[0m\n",
      "\u001b[32m[IRSPACK:I 2021-08-08 02:16:22,827]\u001b[0m \u001b[34mTrial 26:\u001b[0m\n",
      "\u001b[32m[IRSPACK:I 2021-08-08 02:16:22,829]\u001b[0m \u001b[34mparameter = {'reg': 392.03373035711763}\u001b[0m\n",
      "\u001b[32m[IRSPACK:I 2021-08-08 02:16:23,007]\u001b[0m \u001b[34mConfig 26 obtained the following scores: {'appeared_item': 214.0, 'entropy': 4.627967255842983, 'gini_index': 0.74706, 'hit': 0.414, 'map': 0.09802182539682538, 'n_items': 300.0, 'ndcg': 0.15295950325959756, 'precision': 0.05059999999999998, 'recall': 0.21949999999999997, 'total_user': 500.0, 'valid_user': 500.0} within 0.192858 seconds.\u001b[0m\n",
      "\u001b[32m[I 2021-08-08 02:16:23,038]\u001b[0m Trial 26 finished with value: -0.15295950325959756 and parameters: {'optimizer_name': 'DenseSLIMOptimizer', 'DenseSLIMOptimizer.reg': 392.03373035711763}. Best is trial 23 with value: -0.15352854786722003.\u001b[0m\n",
      "\u001b[32m[IRSPACK:I 2021-08-08 02:16:23,128]\u001b[0m \u001b[34mTrial 27:\u001b[0m\n",
      "\u001b[32m[IRSPACK:I 2021-08-08 02:16:23,130]\u001b[0m \u001b[34mparameter = {'reg': 230.17846857843443}\u001b[0m\n",
      "\u001b[32m[IRSPACK:I 2021-08-08 02:16:23,306]\u001b[0m \u001b[34mConfig 27 obtained the following scores: {'appeared_item': 223.0, 'entropy': 4.687385560549563, 'gini_index': 0.7313506666666667, 'hit': 0.41, 'map': 0.09669219576719577, 'n_items': 300.0, 'ndcg': 0.1514154234944884, 'precision': 0.05019999999999999, 'recall': 0.21683333333333332, 'total_user': 500.0, 'valid_user': 500.0} within 0.189178 seconds.\u001b[0m\n",
      "\u001b[32m[I 2021-08-08 02:16:23,336]\u001b[0m Trial 27 finished with value: -0.1514154234944884 and parameters: {'optimizer_name': 'DenseSLIMOptimizer', 'DenseSLIMOptimizer.reg': 230.17846857843443}. Best is trial 23 with value: -0.15352854786722003.\u001b[0m\n",
      "\u001b[32m[IRSPACK:I 2021-08-08 02:16:23,426]\u001b[0m \u001b[34mTrial 28:\u001b[0m\n",
      "\u001b[32m[IRSPACK:I 2021-08-08 02:16:23,428]\u001b[0m \u001b[34mparameter = {'reg': 749.1250755354611}\u001b[0m\n",
      "\u001b[32m[IRSPACK:I 2021-08-08 02:16:23,655]\u001b[0m \u001b[34mConfig 28 obtained the following scores: {'appeared_item': 213.0, 'entropy': 4.59098518973669, 'gini_index': 0.7563586666666666, 'hit': 0.412, 'map': 0.09833280423280423, 'n_items': 300.0, 'ndcg': 0.15294273035090328, 'precision': 0.05039999999999999, 'recall': 0.219, 'total_user': 500.0, 'valid_user': 500.0} within 0.239662 seconds.\u001b[0m\n",
      "\u001b[32m[I 2021-08-08 02:16:23,684]\u001b[0m Trial 28 finished with value: -0.15294273035090328 and parameters: {'optimizer_name': 'DenseSLIMOptimizer', 'DenseSLIMOptimizer.reg': 749.1250755354611}. Best is trial 23 with value: -0.15352854786722003.\u001b[0m\n",
      "\u001b[32m[IRSPACK:I 2021-08-08 02:16:23,797]\u001b[0m \u001b[34mTrial 29:\u001b[0m\n",
      "\u001b[32m[IRSPACK:I 2021-08-08 02:16:23,798]\u001b[0m \u001b[34mparameter = {'alpha': 99.35188181969184, 'reg': 0.006710189430705143, 'n_components': 295}\u001b[0m\n"
     ]
    },
    {
     "data": {
      "text/html": [
       "\n",
       "    <div>\n",
       "        <style>\n",
       "            /* Turns off some styling */\n",
       "            progress {\n",
       "                /* gets rid of default border in Firefox and Opera. */\n",
       "                border: none;\n",
       "                /* Needs to be in here for Safari polyfill so background images work as expected. */\n",
       "                background-size: auto;\n",
       "            }\n",
       "            .progress-bar-interrupted, .progress-bar-interrupted::-webkit-progress-bar {\n",
       "                background: #F44336;\n",
       "            }\n",
       "        </style>\n",
       "      <progress value='4' class='' max='512' style='width:300px; height:20px; vertical-align: middle;'></progress>\n",
       "      0.78% [4/512 00:00<00:05]\n",
       "    </div>\n",
       "    "
      ],
      "text/plain": [
       "<IPython.core.display.HTML object>"
      ]
     },
     "metadata": {},
     "output_type": "display_data"
    },
    {
     "name": "stderr",
     "output_type": "stream",
     "text": [
      "\u001b[32m[I 2021-08-08 02:16:23,893]\u001b[0m Trial 29 pruned. \u001b[0m\n",
      "\u001b[32m[IRSPACK:I 2021-08-08 02:16:23,979]\u001b[0m \u001b[34mTrial 30:\u001b[0m\n",
      "\u001b[32m[IRSPACK:I 2021-08-08 02:16:23,981]\u001b[0m \u001b[34mparameter = {'reg': 48.98215262507169}\u001b[0m\n",
      "\u001b[32m[IRSPACK:I 2021-08-08 02:16:24,162]\u001b[0m \u001b[34mConfig 30 obtained the following scores: {'appeared_item': 262.0, 'entropy': 4.975080262187239, 'gini_index': 0.6392213333333333, 'hit': 0.396, 'map': 0.08833300264550263, 'n_items': 300.0, 'ndcg': 0.14104245524403186, 'precision': 0.04819999999999999, 'recall': 0.20766666666666664, 'total_user': 500.0, 'valid_user': 500.0} within 0.196244 seconds.\u001b[0m\n",
      "\u001b[32m[I 2021-08-08 02:16:24,193]\u001b[0m Trial 30 finished with value: -0.14104245524403186 and parameters: {'optimizer_name': 'DenseSLIMOptimizer', 'DenseSLIMOptimizer.reg': 48.98215262507169}. Best is trial 23 with value: -0.15352854786722003.\u001b[0m\n",
      "\u001b[32m[IRSPACK:I 2021-08-08 02:16:24,283]\u001b[0m \u001b[34mTrial 31:\u001b[0m\n",
      "\u001b[32m[IRSPACK:I 2021-08-08 02:16:24,285]\u001b[0m \u001b[34mparameter = {'reg': 905.6041655116436}\u001b[0m\n",
      "\u001b[32m[IRSPACK:I 2021-08-08 02:16:24,463]\u001b[0m \u001b[34mConfig 31 obtained the following scores: {'appeared_item': 213.0, 'entropy': 4.588702962138756, 'gini_index': 0.756924, 'hit': 0.41, 'map': 0.09822089947089947, 'n_items': 300.0, 'ndcg': 0.15257697227192515, 'precision': 0.05019999999999999, 'recall': 0.21799999999999997, 'total_user': 500.0, 'valid_user': 500.0} within 0.191129 seconds.\u001b[0m\n",
      "\u001b[32m[I 2021-08-08 02:16:24,492]\u001b[0m Trial 31 finished with value: -0.15257697227192515 and parameters: {'optimizer_name': 'DenseSLIMOptimizer', 'DenseSLIMOptimizer.reg': 905.6041655116436}. Best is trial 23 with value: -0.15352854786722003.\u001b[0m\n",
      "\u001b[32m[IRSPACK:I 2021-08-08 02:16:24,583]\u001b[0m \u001b[34mTrial 32:\u001b[0m\n",
      "\u001b[32m[IRSPACK:I 2021-08-08 02:16:24,585]\u001b[0m \u001b[34mparameter = {'reg': 891.7391494468288}\u001b[0m\n",
      "\u001b[32m[IRSPACK:I 2021-08-08 02:16:24,768]\u001b[0m \u001b[34mConfig 32 obtained the following scores: {'appeared_item': 213.0, 'entropy': 4.588702962138756, 'gini_index': 0.756924, 'hit': 0.41, 'map': 0.09822089947089949, 'n_items': 300.0, 'ndcg': 0.15257697227192513, 'precision': 0.05019999999999999, 'recall': 0.21799999999999997, 'total_user': 500.0, 'valid_user': 500.0} within 0.197055 seconds.\u001b[0m\n",
      "\u001b[32m[I 2021-08-08 02:16:24,797]\u001b[0m Trial 32 finished with value: -0.15257697227192513 and parameters: {'optimizer_name': 'DenseSLIMOptimizer', 'DenseSLIMOptimizer.reg': 891.7391494468288}. Best is trial 23 with value: -0.15352854786722003.\u001b[0m\n",
      "\u001b[32m[IRSPACK:I 2021-08-08 02:16:24,885]\u001b[0m \u001b[34mTrial 33:\u001b[0m\n",
      "\u001b[32m[IRSPACK:I 2021-08-08 02:16:24,887]\u001b[0m \u001b[34mparameter = {'reg': 311.9084742436009}\u001b[0m\n",
      "\u001b[32m[IRSPACK:I 2021-08-08 02:16:25,072]\u001b[0m \u001b[34mConfig 33 obtained the following scores: {'appeared_item': 217.0, 'entropy': 4.647709301129154, 'gini_index': 0.7419826666666667, 'hit': 0.416, 'map': 0.0978623015873016, 'n_items': 300.0, 'ndcg': 0.15311949532984956, 'precision': 0.0508, 'recall': 0.22016666666666665, 'total_user': 500.0, 'valid_user': 500.0} within 0.198154 seconds.\u001b[0m\n",
      "\u001b[32m[I 2021-08-08 02:16:25,103]\u001b[0m Trial 33 finished with value: -0.15311949532984956 and parameters: {'optimizer_name': 'DenseSLIMOptimizer', 'DenseSLIMOptimizer.reg': 311.9084742436009}. Best is trial 23 with value: -0.15352854786722003.\u001b[0m\n",
      "\u001b[32m[IRSPACK:I 2021-08-08 02:16:25,218]\u001b[0m \u001b[34mTrial 34:\u001b[0m\n",
      "\u001b[32m[IRSPACK:I 2021-08-08 02:16:25,220]\u001b[0m \u001b[34mparameter = {'alpha': 1.4264237023548012e-05, 'l1_ratio': 0.006224868172024445, 'top_k': 8}\u001b[0m\n",
      "\u001b[32m[IRSPACK:I 2021-08-08 02:16:25,234]\u001b[0m \u001b[34mConfig 34 obtained the following scores: {'appeared_item': 299.0, 'entropy': 5.503467103132563, 'gini_index': 0.35258666666666666, 'hit': 0.19, 'map': 0.03363796296296297, 'n_items': 300.0, 'ndcg': 0.0582980877123216, 'precision': 0.0208, 'recall': 0.08716666666666666, 'total_user': 500.0, 'valid_user': 500.0} within 0.052616 seconds.\u001b[0m\n",
      "\u001b[32m[I 2021-08-08 02:16:25,265]\u001b[0m Trial 34 finished with value: -0.0582980877123216 and parameters: {'optimizer_name': 'SLIMOptimizer', 'SLIMOptimizer.alpha': 1.4264237023548012e-05, 'SLIMOptimizer.l1_ratio': 0.006224868172024445, 'SLIMOptimizer.top_k': 8}. Best is trial 23 with value: -0.15352854786722003.\u001b[0m\n",
      "\u001b[32m[IRSPACK:I 2021-08-08 02:16:25,348]\u001b[0m \u001b[34mTrial 35:\u001b[0m\n",
      "\u001b[32m[IRSPACK:I 2021-08-08 02:16:25,350]\u001b[0m \u001b[34mparameter = {'reg': 195.63948476247486}\u001b[0m\n",
      "\u001b[32m[IRSPACK:I 2021-08-08 02:16:25,526]\u001b[0m \u001b[34mConfig 35 obtained the following scores: {'appeared_item': 227.0, 'entropy': 4.707616958929105, 'gini_index': 0.7258253333333333, 'hit': 0.41, 'map': 0.09700727513227513, 'n_items': 300.0, 'ndcg': 0.15178527768189595, 'precision': 0.050199999999999995, 'recall': 0.21699999999999997, 'total_user': 500.0, 'valid_user': 500.0} within 0.188138 seconds.\u001b[0m\n",
      "\u001b[32m[I 2021-08-08 02:16:25,558]\u001b[0m Trial 35 finished with value: -0.15178527768189595 and parameters: {'optimizer_name': 'DenseSLIMOptimizer', 'DenseSLIMOptimizer.reg': 195.63948476247486}. Best is trial 23 with value: -0.15352854786722003.\u001b[0m\n",
      "\u001b[32m[IRSPACK:I 2021-08-08 02:16:25,682]\u001b[0m \u001b[34mTrial 36:\u001b[0m\n",
      "\u001b[32m[IRSPACK:I 2021-08-08 02:16:25,684]\u001b[0m \u001b[34mparameter = {'shrinkage': 937.2851805723508, 'feature_weighting': 'NONE', 'alpha': 0.975826002321839, 'top_k': 41}\u001b[0m\n",
      "\u001b[32m[IRSPACK:I 2021-08-08 02:16:25,702]\u001b[0m \u001b[34mConfig 36 obtained the following scores: {'appeared_item': 236.0, 'entropy': 4.641148211652555, 'gini_index': 0.7425773333333333, 'hit': 0.392, 'map': 0.09746243386243386, 'n_items': 300.0, 'ndcg': 0.14959810909203325, 'precision': 0.04800000000000001, 'recall': 0.2085, 'total_user': 500.0, 'valid_user': 500.0} within 0.063132 seconds.\u001b[0m\n",
      "\u001b[32m[I 2021-08-08 02:16:25,736]\u001b[0m Trial 36 finished with value: -0.14959810909203325 and parameters: {'optimizer_name': 'AsymmetricCosineKNNOptimizer', 'AsymmetricCosineKNNOptimizer.shrinkage': 937.2851805723508, 'AsymmetricCosineKNNOptimizer.feature_weighting': 'NONE', 'AsymmetricCosineKNNOptimizer.alpha': 0.975826002321839, 'AsymmetricCosineKNNOptimizer.top_k': 41}. Best is trial 23 with value: -0.15352854786722003.\u001b[0m\n",
      "\u001b[32m[IRSPACK:I 2021-08-08 02:16:25,824]\u001b[0m \u001b[34mTrial 37:\u001b[0m\n",
      "\u001b[32m[IRSPACK:I 2021-08-08 02:16:25,826]\u001b[0m \u001b[34mparameter = {'reg': 82.09860472221487}\u001b[0m\n",
      "\u001b[32m[IRSPACK:I 2021-08-08 02:16:26,010]\u001b[0m \u001b[34mConfig 37 obtained the following scores: {'appeared_item': 249.0, 'entropy': 4.8649722151860635, 'gini_index': 0.67792, 'hit': 0.408, 'map': 0.09140052910052908, 'n_items': 300.0, 'ndcg': 0.14555077962474888, 'precision': 0.049599999999999984, 'recall': 0.21333333333333332, 'total_user': 500.0, 'valid_user': 500.0} within 0.199958 seconds.\u001b[0m\n",
      "\u001b[32m[I 2021-08-08 02:16:26,042]\u001b[0m Trial 37 finished with value: -0.14555077962474888 and parameters: {'optimizer_name': 'DenseSLIMOptimizer', 'DenseSLIMOptimizer.reg': 82.09860472221487}. Best is trial 23 with value: -0.15352854786722003.\u001b[0m\n",
      "\u001b[32m[IRSPACK:I 2021-08-08 02:16:26,151]\u001b[0m \u001b[34mTrial 38:\u001b[0m\n",
      "\u001b[32m[IRSPACK:I 2021-08-08 02:16:26,153]\u001b[0m \u001b[34mparameter = {'alpha': 4.712093769144264e-05, 'l1_ratio': 0.15962077766914184, 'top_k': 28}\u001b[0m\n",
      "\u001b[32m[IRSPACK:I 2021-08-08 02:16:26,165]\u001b[0m \u001b[34mConfig 38 obtained the following scores: {'appeared_item': 297.0, 'entropy': 5.388996949290408, 'gini_index': 0.43624666666666667, 'hit': 0.278, 'map': 0.055016203703703706, 'n_items': 300.0, 'ndcg': 0.09140853470621936, 'precision': 0.032, 'recall': 0.1383333333333333, 'total_user': 500.0, 'valid_user': 500.0} within 0.046785 seconds.\u001b[0m\n",
      "\u001b[32m[I 2021-08-08 02:16:26,196]\u001b[0m Trial 38 finished with value: -0.09140853470621936 and parameters: {'optimizer_name': 'SLIMOptimizer', 'SLIMOptimizer.alpha': 4.712093769144264e-05, 'SLIMOptimizer.l1_ratio': 0.15962077766914184, 'SLIMOptimizer.top_k': 28}. Best is trial 23 with value: -0.15352854786722003.\u001b[0m\n",
      "\u001b[32m[IRSPACK:I 2021-08-08 02:16:26,286]\u001b[0m \u001b[34mTrial 39:\u001b[0m\n",
      "\u001b[32m[IRSPACK:I 2021-08-08 02:16:26,287]\u001b[0m \u001b[34mparameter = {'reg': 1.6279174031244843}\u001b[0m\n",
      "\u001b[32m[IRSPACK:I 2021-08-08 02:16:26,465]\u001b[0m \u001b[34mConfig 39 obtained the following scores: {'appeared_item': 295.0, 'entropy': 5.361486658615879, 'gini_index': 0.45437333333333335, 'hit': 0.304, 'map': 0.055635317460317454, 'n_items': 300.0, 'ndcg': 0.09681478762671979, 'precision': 0.0346, 'recall': 0.15016666666666667, 'total_user': 500.0, 'valid_user': 500.0} within 0.191272 seconds.\u001b[0m\n",
      "\u001b[32m[I 2021-08-08 02:16:26,497]\u001b[0m Trial 39 finished with value: -0.09681478762671979 and parameters: {'optimizer_name': 'DenseSLIMOptimizer', 'DenseSLIMOptimizer.reg': 1.6279174031244843}. Best is trial 23 with value: -0.15352854786722003.\u001b[0m\n"
     ]
    }
   ],
   "source": [
    "rec_class, best_parameter, log = autopilot(X_train, evaluator, n_trials=40)"
   ]
  },
  {
   "cell_type": "code",
   "execution_count": 32,
   "metadata": {},
   "outputs": [
    {
     "name": "stdout",
     "output_type": "stream",
     "text": [
      "seen\n"
     ]
    },
    {
     "data": {
      "text/html": [
       "<div>\n",
       "<style scoped>\n",
       "    .dataframe tbody tr th:only-of-type {\n",
       "        vertical-align: middle;\n",
       "    }\n",
       "\n",
       "    .dataframe tbody tr th {\n",
       "        vertical-align: top;\n",
       "    }\n",
       "\n",
       "    .dataframe thead th {\n",
       "        text-align: right;\n",
       "    }\n",
       "</style>\n",
       "<table border=\"1\" class=\"dataframe\">\n",
       "  <thead>\n",
       "    <tr style=\"text-align: right;\">\n",
       "      <th></th>\n",
       "      <th>category</th>\n",
       "      <th>price</th>\n",
       "    </tr>\n",
       "  </thead>\n",
       "  <tbody>\n",
       "    <tr>\n",
       "      <th>5</th>\n",
       "      <td>casual</td>\n",
       "      <td>106</td>\n",
       "    </tr>\n",
       "    <tr>\n",
       "      <th>23</th>\n",
       "      <td>casual</td>\n",
       "      <td>227</td>\n",
       "    </tr>\n",
       "    <tr>\n",
       "      <th>60</th>\n",
       "      <td>casual</td>\n",
       "      <td>310</td>\n",
       "    </tr>\n",
       "    <tr>\n",
       "      <th>77</th>\n",
       "      <td>casual</td>\n",
       "      <td>240</td>\n",
       "    </tr>\n",
       "    <tr>\n",
       "      <th>113</th>\n",
       "      <td>casual</td>\n",
       "      <td>183</td>\n",
       "    </tr>\n",
       "    <tr>\n",
       "      <th>150</th>\n",
       "      <td>casual</td>\n",
       "      <td>136</td>\n",
       "    </tr>\n",
       "    <tr>\n",
       "      <th>161</th>\n",
       "      <td>casual</td>\n",
       "      <td>219</td>\n",
       "    </tr>\n",
       "    <tr>\n",
       "      <th>289</th>\n",
       "      <td>casual</td>\n",
       "      <td>332</td>\n",
       "    </tr>\n",
       "  </tbody>\n",
       "</table>\n",
       "</div>"
      ],
      "text/plain": [
       "    category  price\n",
       "5     casual    106\n",
       "23    casual    227\n",
       "60    casual    310\n",
       "77    casual    240\n",
       "113   casual    183\n",
       "150   casual    136\n",
       "161   casual    219\n",
       "289   casual    332"
      ]
     },
     "metadata": {},
     "output_type": "display_data"
    },
    {
     "name": "stdout",
     "output_type": "stream",
     "text": [
      "rec\n"
     ]
    },
    {
     "data": {
      "text/html": [
       "<div>\n",
       "<style scoped>\n",
       "    .dataframe tbody tr th:only-of-type {\n",
       "        vertical-align: middle;\n",
       "    }\n",
       "\n",
       "    .dataframe tbody tr th {\n",
       "        vertical-align: top;\n",
       "    }\n",
       "\n",
       "    .dataframe thead th {\n",
       "        text-align: right;\n",
       "    }\n",
       "</style>\n",
       "<table border=\"1\" class=\"dataframe\">\n",
       "  <thead>\n",
       "    <tr style=\"text-align: right;\">\n",
       "      <th></th>\n",
       "      <th>category</th>\n",
       "      <th>price</th>\n",
       "    </tr>\n",
       "  </thead>\n",
       "  <tbody>\n",
       "    <tr>\n",
       "      <th>286</th>\n",
       "      <td>casual</td>\n",
       "      <td>270</td>\n",
       "    </tr>\n",
       "    <tr>\n",
       "      <th>169</th>\n",
       "      <td>casual</td>\n",
       "      <td>238</td>\n",
       "    </tr>\n",
       "    <tr>\n",
       "      <th>174</th>\n",
       "      <td>casual</td>\n",
       "      <td>311</td>\n",
       "    </tr>\n",
       "    <tr>\n",
       "      <th>137</th>\n",
       "      <td>casual</td>\n",
       "      <td>271</td>\n",
       "    </tr>\n",
       "    <tr>\n",
       "      <th>279</th>\n",
       "      <td>casual</td>\n",
       "      <td>202</td>\n",
       "    </tr>\n",
       "  </tbody>\n",
       "</table>\n",
       "</div>"
      ],
      "text/plain": [
       "    category  price\n",
       "286   casual    270\n",
       "169   casual    238\n",
       "174   casual    311\n",
       "137   casual    271\n",
       "279   casual    202"
      ]
     },
     "metadata": {},
     "output_type": "display_data"
    }
   ],
   "source": [
    "rec_class\n",
    "\n",
    "rec = rec_class(X, **best_parameter).learn()\n",
    "\n",
    "uindex = random.randint(0, len(uids) - 1)\n",
    "score_ = rec.get_score_cold_user_remove_seen(X[uindex])[0]\n",
    "c = np.argsort(score_)[::-1][:5]\n",
    "\n",
    "iids_seen = iids[X[uindex].nonzero()[1]]\n",
    "\n",
    "print('seen')\n",
    "display(item_df.set_index('item_id').reindex(iids_seen))\n",
    "print('rec')\n",
    "display(item_df.set_index('item_id').reindex(iids[c]))"
   ]
  },
  {
   "cell_type": "code",
   "execution_count": 36,
   "metadata": {},
   "outputs": [],
   "source": [
    "log_df.to_csv('purchase_log.csv', index=False)"
   ]
  },
  {
   "cell_type": "code",
   "execution_count": 40,
   "metadata": {},
   "outputs": [],
   "source": [
    "item_df.to_pickle('item_info.pkl')"
   ]
  },
  {
   "cell_type": "code",
   "execution_count": null,
   "metadata": {},
   "outputs": [],
   "source": []
  }
 ],
 "metadata": {
  "kernelspec": {
   "display_name": "Python 3 (ipykernel)",
   "language": "python",
   "name": "python3"
  },
  "language_info": {
   "codemirror_mode": {
    "name": "ipython",
    "version": 3
   },
   "file_extension": ".py",
   "mimetype": "text/x-python",
   "name": "python",
   "nbconvert_exporter": "python",
   "pygments_lexer": "ipython3",
   "version": "3.8.2"
  }
 },
 "nbformat": 4,
 "nbformat_minor": 4
}
